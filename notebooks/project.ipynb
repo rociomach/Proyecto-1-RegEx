{
 "cells": [
  {
   "metadata": {},
   "cell_type": "code",
   "outputs": [],
   "execution_count": null,
   "source": "## PRUEBA PROYECTO"
  },
  {
   "metadata": {
    "collapsed": true,
    "ExecuteTime": {
     "end_time": "2025-09-07T14:08:10.058086Z",
     "start_time": "2025-09-07T14:08:10.049487Z"
    }
   },
   "cell_type": "code",
   "source": [
    "import re\n",
    "\n",
    "file = open('../data/baby1990.html')\n",
    "pattern = r\"\\b(19\\d{2}|20\\d{2})\\b\" # Buscar todos los años que empiecen con 19 o 20\n",
    "\n",
    "for line in file:\n",
    "    years = re.findall(pattern, line)\n",
    "    for year in years:\n",
    "        print(f\"Año: {year}\")\n"
   ],
   "outputs": [
    {
     "name": "stdout",
     "output_type": "stream",
     "text": [
      "Año: 2005\n",
      "Año: 2007\n",
      "Año: 1990\n",
      "Año: 1990\n"
     ]
    }
   ],
   "execution_count": 13
  },
  {
   "metadata": {},
   "cell_type": "code",
   "outputs": [],
   "execution_count": null,
   "source": ""
  }
 ],
 "metadata": {
  "kernelspec": {
   "display_name": "Python 3",
   "language": "python",
   "name": "python3"
  },
  "language_info": {
   "codemirror_mode": {
    "name": "ipython",
    "version": 2
   },
   "file_extension": ".py",
   "mimetype": "text/x-python",
   "name": "python",
   "nbconvert_exporter": "python",
   "pygments_lexer": "ipython2",
   "version": "2.7.6"
  }
 },
 "nbformat": 4,
 "nbformat_minor": 0
}
